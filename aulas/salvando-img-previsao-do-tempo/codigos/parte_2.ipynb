{
 "cells": [
  {
   "cell_type": "markdown",
   "id": "found-tribute",
   "metadata": {},
   "source": [
    "## Importações básicas"
   ]
  },
  {
   "cell_type": "code",
   "execution_count": 2,
   "id": "sacred-garage",
   "metadata": {},
   "outputs": [],
   "source": [
    "import requests\n",
    "from bs4 import BeautifulSoup\n",
    "from PIL import Image\n",
    "from io import BytesIO\n"
   ]
  },
  {
   "cell_type": "markdown",
   "id": "dependent-there",
   "metadata": {},
   "source": [
    "## Início código"
   ]
  },
  {
   "cell_type": "code",
   "execution_count": 3,
   "id": "alive-peace",
   "metadata": {},
   "outputs": [],
   "source": [
    "wblink='https://www.weather.gov/okx/winter#tab-2'\n",
    "wblink2='https://www.weather.gov'"
   ]
  },
  {
   "cell_type": "code",
   "execution_count": 4,
   "id": "atmospheric-dictionary",
   "metadata": {},
   "outputs": [],
   "source": [
    "req=requests.get(wblink)"
   ]
  },
  {
   "cell_type": "code",
   "execution_count": 5,
   "id": "dimensional-struggle",
   "metadata": {},
   "outputs": [],
   "source": [
    "html_code = BeautifulSoup(req.text, 'html.parser')"
   ]
  },
  {
   "cell_type": "code",
   "execution_count": 6,
   "id": "virgin-flexibility",
   "metadata": {},
   "outputs": [],
   "source": [
    "#help(html_code)\n"
   ]
  },
  {
   "cell_type": "code",
   "execution_count": 7,
   "id": "distinguished-onion",
   "metadata": {},
   "outputs": [
    {
     "data": {
      "text/plain": [
       "[<img alt=\"Expected Snowfall - Official NWS Forecast\" id=\"stsImg\" src=\"/images/okx/winter/StormTotalSnowWeb.png\" width=\"475\"/>]"
      ]
     },
     "execution_count": 7,
     "metadata": {},
     "output_type": "execute_result"
    }
   ],
   "source": [
    "html_code.find_all(id=\"stsImg\", limit=1)"
   ]
  },
  {
   "cell_type": "code",
   "execution_count": 8,
   "id": "lonely-blake",
   "metadata": {},
   "outputs": [
    {
     "data": {
      "text/plain": [
       "'/images/okx/winter/StormTotalSnowWeb.png'"
      ]
     },
     "execution_count": 8,
     "metadata": {},
     "output_type": "execute_result"
    }
   ],
   "source": [
    "html_code.find_all(id=\"stsImg\", limit=1)[0].attrs['src']"
   ]
  },
  {
   "cell_type": "code",
   "execution_count": 9,
   "id": "broken-covering",
   "metadata": {},
   "outputs": [],
   "source": [
    "link_img = html_code.find_all(id=\"stsImg\", limit=1)[0].attrs['src']\n",
    "wb_final_img = wblink2+link_img"
   ]
  },
  {
   "cell_type": "code",
   "execution_count": 10,
   "id": "union-yemen",
   "metadata": {},
   "outputs": [
    {
     "data": {
      "text/plain": [
       "'https://www.weather.gov/images/okx/winter/StormTotalSnowWeb.png'"
      ]
     },
     "execution_count": 10,
     "metadata": {},
     "output_type": "execute_result"
    }
   ],
   "source": [
    "wb_final_img"
   ]
  },
  {
   "cell_type": "code",
   "execution_count": 11,
   "id": "identical-transparency",
   "metadata": {},
   "outputs": [],
   "source": [
    "img_req = requests.get(wb_final_img)"
   ]
  },
  {
   "cell_type": "code",
   "execution_count": 12,
   "id": "extensive-cleanup",
   "metadata": {},
   "outputs": [
    {
     "data": {
      "text/plain": [
       "200"
      ]
     },
     "execution_count": 12,
     "metadata": {},
     "output_type": "execute_result"
    }
   ],
   "source": [
    "img_req.status_code"
   ]
  },
  {
   "cell_type": "code",
   "execution_count": 13,
   "id": "convertible-international",
   "metadata": {},
   "outputs": [],
   "source": [
    "img_bytes = img_req.content"
   ]
  },
  {
   "cell_type": "code",
   "execution_count": 14,
   "id": "selected-ordinary",
   "metadata": {},
   "outputs": [
    {
     "data": {
      "text/plain": [
       "'PNG'"
      ]
     },
     "execution_count": 14,
     "metadata": {},
     "output_type": "execute_result"
    }
   ],
   "source": [
    "tipos = ['jpg', 'png', 'PNG', 'JPG', 'JPEG', 'jpeg']\n",
    "tipo_final = ''\n",
    "for tipo in tipos:\n",
    "    if(tipo in str(img_bytes)):\n",
    "        tipo_final = tipo\n",
    "tipo_final"
   ]
  },
  {
   "cell_type": "code",
   "execution_count": 15,
   "id": "rough-synthetic",
   "metadata": {},
   "outputs": [],
   "source": [
    "arquivo = 'previsao_neve.'+tipo_final\n",
    "arquivo_previsao = open(arquivo, 'wb+')"
   ]
  },
  {
   "cell_type": "code",
   "execution_count": 16,
   "id": "tender-collar",
   "metadata": {},
   "outputs": [
    {
     "data": {
      "text/plain": [
       "194365"
      ]
     },
     "execution_count": 16,
     "metadata": {},
     "output_type": "execute_result"
    }
   ],
   "source": [
    "arquivo_previsao.write((img_bytes))"
   ]
  },
  {
   "cell_type": "code",
   "execution_count": 17,
   "id": "subsequent-spank",
   "metadata": {},
   "outputs": [],
   "source": [
    "arquivo_previsao.close()"
   ]
  },
  {
   "cell_type": "markdown",
   "id": "continental-rwanda",
   "metadata": {},
   "source": [
    "## Comparando imagens"
   ]
  },
  {
   "cell_type": "code",
   "execution_count": 18,
   "id": "metallic-geology",
   "metadata": {},
   "outputs": [],
   "source": [
    "arquivo_temp = open(\"old_forecast1.PNG\", \"rb\")\n",
    "D1 = arquivo_temp.read()"
   ]
  },
  {
   "cell_type": "code",
   "execution_count": 19,
   "id": "imposed-desktop",
   "metadata": {},
   "outputs": [],
   "source": [
    "arquivo2 = open('previsao_neve.png', 'rb')\n",
    "D2 = arquivo2.read()"
   ]
  },
  {
   "cell_type": "code",
   "execution_count": 20,
   "id": "useful-upset",
   "metadata": {},
   "outputs": [
    {
     "name": "stdout",
     "output_type": "stream",
     "text": [
      "True\n"
     ]
    }
   ],
   "source": [
    "\n",
    "if D1 == img_bytes:\n",
    "    print(\"True\")\n",
    "    \n",
    "else:\n",
    "    print(\"False\")\n"
   ]
  },
  {
   "cell_type": "code",
   "execution_count": 21,
   "id": "christian-visit",
   "metadata": {},
   "outputs": [
    {
     "name": "stdout",
     "output_type": "stream",
     "text": [
      "Iguais.\n"
     ]
    }
   ],
   "source": [
    "if (D1 == img_bytes):\n",
    "    print(\"Iguais.\")\n",
    "else:\n",
    "    print(\"Não são iguais.\")"
   ]
  },
  {
   "cell_type": "code",
   "execution_count": 22,
   "id": "magnetic-context",
   "metadata": {},
   "outputs": [],
   "source": [
    "arquivo2.close()\n",
    "arquivo_temp.close()"
   ]
  },
  {
   "cell_type": "markdown",
   "id": "purple-driving",
   "metadata": {},
   "source": [
    "## Codigo Novo com intervalo"
   ]
  },
  {
   "cell_type": "code",
   "execution_count": 23,
   "id": "contemporary-workplace",
   "metadata": {},
   "outputs": [
    {
     "name": "stdout",
     "output_type": "stream",
     "text": [
      "tipo do arquivo_baixado PNG\n",
      "Reiniciando o código\n",
      "tipo do arquivo_baixado PNG\n",
      "Reiniciando o código\n",
      "tipo do arquivo_baixado PNG\n",
      "Reiniciando o código\n",
      "tipo do arquivo_baixado PNG\n",
      "Reiniciando o código\n",
      "tipo do arquivo_baixado PNG\n",
      "Reiniciando o código\n",
      "tipo do arquivo_baixado PNG\n",
      "Reiniciando o código\n",
      "tipo do arquivo_baixado PNG\n",
      "Reiniciando o código\n",
      "tipo do arquivo_baixado PNG\n",
      "Reiniciando o código\n",
      "tipo do arquivo_baixado PNG\n",
      "Reiniciando o código\n",
      "tipo do arquivo_baixado PNG\n",
      "Reiniciando o código\n",
      "tipo do arquivo_baixado PNG\n",
      "Reiniciando o código\n",
      "tipo do arquivo_baixado PNG\n",
      "Reiniciando o código\n",
      "tipo do arquivo_baixado PNG\n",
      "Reiniciando o código\n",
      "tipo do arquivo_baixado PNG\n",
      "Reiniciando o código\n",
      "tipo do arquivo_baixado PNG\n",
      "Reiniciando o código\n",
      "tipo do arquivo_baixado PNG\n",
      "Reiniciando o código\n",
      "tipo do arquivo_baixado PNG\n",
      "Reiniciando o código\n",
      "tipo do arquivo_baixado PNG\n",
      "Reiniciando o código\n",
      "tipo do arquivo_baixado PNG\n",
      "Reiniciando o código\n",
      "tipo do arquivo_baixado PNG\n",
      "Reiniciando o código\n",
      "tipo do arquivo_baixado PNG\n",
      "Reiniciando o código\n",
      "tipo do arquivo_baixado PNG\n",
      "Reiniciando o código\n",
      "tipo do arquivo_baixado PNG\n",
      "Reiniciando o código\n",
      "tipo do arquivo_baixado PNG\n",
      "Reiniciando o código\n",
      "tipo do arquivo_baixado PNG\n",
      "Reiniciando o código\n",
      "tipo do arquivo_baixado PNG\n",
      "Reiniciando o código\n",
      "tipo do arquivo_baixado PNG\n",
      "Reiniciando o código\n",
      "tipo do arquivo_baixado PNG\n",
      "Reiniciando o código\n",
      "tipo do arquivo_baixado PNG\n",
      "Reiniciando o código\n",
      "tipo do arquivo_baixado PNG\n",
      "Reiniciando o código\n",
      "tipo do arquivo_baixado PNG\n",
      "Reiniciando o código\n",
      "tipo do arquivo_baixado PNG\n",
      "Reiniciando o código\n",
      "tipo do arquivo_baixado PNG\n",
      "Reiniciando o código\n",
      "tipo do arquivo_baixado PNG\n",
      "Reiniciando o código\n",
      "tipo do arquivo_baixado PNG\n",
      "Reiniciando o código\n",
      "tipo do arquivo_baixado PNG\n",
      "Reiniciando o código\n",
      "tipo do arquivo_baixado PNG\n",
      "Reiniciando o código\n",
      "tipo do arquivo_baixado PNG\n",
      "Reiniciando o código\n",
      "tipo do arquivo_baixado PNG\n",
      "Reiniciando o código\n",
      "tipo do arquivo_baixado PNG\n",
      "Reiniciando o código\n",
      "tipo do arquivo_baixado PNG\n",
      "Reiniciando o código\n",
      "tipo do arquivo_baixado PNG\n",
      "Reiniciando o código\n",
      "tipo do arquivo_baixado PNG\n",
      "Reiniciando o código\n",
      "tipo do arquivo_baixado PNG\n",
      "Reiniciando o código\n",
      "tipo do arquivo_baixado PNG\n",
      "Reiniciando o código\n",
      "tipo do arquivo_baixado PNG\n",
      "Reiniciando o código\n",
      "tipo do arquivo_baixado PNG\n",
      "Reiniciando o código\n",
      "tipo do arquivo_baixado PNG\n",
      "Reiniciando o código\n",
      "tipo do arquivo_baixado PNG\n",
      "Reiniciando o código\n",
      "tipo do arquivo_baixado PNG\n",
      "Reiniciando o código\n",
      "tipo do arquivo_baixado PNG\n",
      "Reiniciando o código\n",
      "tipo do arquivo_baixado PNG\n",
      "Reiniciando o código\n",
      "tipo do arquivo_baixado PNG\n",
      "Reiniciando o código\n",
      "tipo do arquivo_baixado PNG\n",
      "Reiniciando o código\n",
      "tipo do arquivo_baixado PNG\n",
      "Reiniciando o código\n",
      "tipo do arquivo_baixado PNG\n",
      "Reiniciando o código\n",
      "tipo do arquivo_baixado PNG\n",
      "Reiniciando o código\n",
      "tipo do arquivo_baixado PNG\n",
      "Reiniciando o código\n",
      "tipo do arquivo_baixado PNG\n",
      "Reiniciando o código\n",
      "tipo do arquivo_baixado PNG\n",
      "Reiniciando o código\n",
      "tipo do arquivo_baixado PNG\n",
      "Reiniciando o código\n",
      "tipo do arquivo_baixado PNG\n",
      "Reiniciando o código\n",
      "tipo do arquivo_baixado PNG\n",
      "Reiniciando o código\n",
      "tipo do arquivo_baixado PNG\n",
      "Reiniciando o código\n",
      "tipo do arquivo_baixado PNG\n",
      "Reiniciando o código\n",
      "tipo do arquivo_baixado PNG\n",
      "Reiniciando o código\n",
      "tipo do arquivo_baixado PNG\n",
      "Reiniciando o código\n",
      "tipo do arquivo_baixado PNG\n",
      "Reiniciando o código\n",
      "tipo do arquivo_baixado PNG\n",
      "Reiniciando o código\n",
      "tipo do arquivo_baixado PNG\n",
      "Reiniciando o código\n",
      "tipo do arquivo_baixado PNG\n",
      "Reiniciando o código\n",
      "tipo do arquivo_baixado PNG\n",
      "Reiniciando o código\n",
      "tipo do arquivo_baixado PNG\n",
      "Reiniciando o código\n",
      "tipo do arquivo_baixado PNG\n",
      "Reiniciando o código\n",
      "tipo do arquivo_baixado PNG\n",
      "Reiniciando o código\n"
     ]
    },
    {
     "ename": "KeyboardInterrupt",
     "evalue": "",
     "output_type": "error",
     "traceback": [
      "\u001b[1;31m---------------------------------------------------------------------------\u001b[0m",
      "\u001b[1;31mKeyboardInterrupt\u001b[0m                         Traceback (most recent call last)",
      "\u001b[1;32m<ipython-input-23-125a6b9a07db>\u001b[0m in \u001b[0;36m<module>\u001b[1;34m\u001b[0m\n\u001b[0;32m     20\u001b[0m         \u001b[0mprint\u001b[0m\u001b[1;33m(\u001b[0m\u001b[1;34m\"ImgSalva\"\u001b[0m\u001b[1;33m)\u001b[0m\u001b[1;33m\u001b[0m\u001b[1;33m\u001b[0m\u001b[0m\n\u001b[0;32m     21\u001b[0m     \u001b[0mprint\u001b[0m\u001b[1;33m(\u001b[0m\u001b[1;34m\"Reiniciando o código\"\u001b[0m\u001b[1;33m)\u001b[0m\u001b[1;33m\u001b[0m\u001b[1;33m\u001b[0m\u001b[0m\n\u001b[1;32m---> 22\u001b[1;33m     \u001b[0mtime\u001b[0m\u001b[1;33m.\u001b[0m\u001b[0msleep\u001b[0m\u001b[1;33m(\u001b[0m\u001b[1;36m5\u001b[0m\u001b[1;33m)\u001b[0m\u001b[1;33m\u001b[0m\u001b[1;33m\u001b[0m\u001b[0m\n\u001b[0m",
      "\u001b[1;31mKeyboardInterrupt\u001b[0m: "
     ]
    }
   ],
   "source": [
    "import time\n",
    "\n",
    "while(True):\n",
    "    img_req = requests.get(wb_final_img)\n",
    "    img_bytes = img_req.content\n",
    "    tipos = ['jpg', 'png', 'PNG', 'JPG', 'JPEG', 'jpeg']\n",
    "    tipo_final = ''\n",
    "    for tipo in tipos:\n",
    "        if(tipo in str(img_bytes)):\n",
    "            tipo_final = tipo\n",
    "    tipo_final\n",
    "    print(\"tipo do arquivo_baixado\", tipo_final)\n",
    "    arq_pc = open(\"old_forecast1.PNG\", \"rb\")\n",
    "    arq_pc_bytes = arq_pc.read()\n",
    "    arq_pc.close()\n",
    "    if(img_bytes != arq_pc_bytes):\n",
    "        arq_pc = open(\"old_forecast1.PNG\", \"wb\")\n",
    "        arq_pc.write(img_bytes)\n",
    "        arq_pc.close()\n",
    "        print(\"ImgSalva\")\n",
    "    print(\"Reiniciando o código\")\n",
    "    time.sleep(5)"
   ]
  },
  {
   "cell_type": "code",
   "execution_count": null,
   "id": "prostate-cooperation",
   "metadata": {},
   "outputs": [],
   "source": []
  }
 ],
 "metadata": {
  "kernelspec": {
   "display_name": "Python 3",
   "language": "python",
   "name": "python3"
  },
  "language_info": {
   "codemirror_mode": {
    "name": "ipython",
    "version": 3
   },
   "file_extension": ".py",
   "mimetype": "text/x-python",
   "name": "python",
   "nbconvert_exporter": "python",
   "pygments_lexer": "ipython3",
   "version": "3.8.5"
  }
 },
 "nbformat": 4,
 "nbformat_minor": 5
}
