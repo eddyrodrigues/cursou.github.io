{
 "cells": [
  {
   "cell_type": "code",
   "execution_count": 1,
   "id": "center-symposium",
   "metadata": {},
   "outputs": [],
   "source": [
    "import requests\n",
    "from bs4 import BeautifulSoup\n",
    "from PIL import Image\n",
    "from io import BytesIO"
   ]
  },
  {
   "cell_type": "code",
   "execution_count": 2,
   "id": "measured-license",
   "metadata": {},
   "outputs": [],
   "source": [
    "wblink='https://www.weather.gov/okx/winter#tab-2'\n",
    "wblink2='https://www.weather.gov'"
   ]
  },
  {
   "cell_type": "code",
   "execution_count": 3,
   "id": "compound-suffering",
   "metadata": {},
   "outputs": [],
   "source": [
    "req=requests.get(wblink)"
   ]
  },
  {
   "cell_type": "code",
   "execution_count": 4,
   "id": "organizational-confidence",
   "metadata": {},
   "outputs": [],
   "source": [
    "html_code = BeautifulSoup(req.text, 'html.parser')"
   ]
  },
  {
   "cell_type": "code",
   "execution_count": 5,
   "id": "minute-latin",
   "metadata": {},
   "outputs": [],
   "source": [
    "#help(html_code)\n"
   ]
  },
  {
   "cell_type": "code",
   "execution_count": 6,
   "id": "metric-niagara",
   "metadata": {},
   "outputs": [
    {
     "data": {
      "text/plain": [
       "[<img alt=\"Expected Snowfall - Official NWS Forecast\" id=\"stsImg\" src=\"/images/okx/winter/StormTotalSnowWeb.png\" width=\"475\"/>]"
      ]
     },
     "execution_count": 6,
     "metadata": {},
     "output_type": "execute_result"
    }
   ],
   "source": [
    "html_code.find_all(id=\"stsImg\", limit=1)"
   ]
  },
  {
   "cell_type": "code",
   "execution_count": 7,
   "id": "taken-petersburg",
   "metadata": {},
   "outputs": [
    {
     "data": {
      "text/plain": [
       "'/images/okx/winter/StormTotalSnowWeb.png'"
      ]
     },
     "execution_count": 7,
     "metadata": {},
     "output_type": "execute_result"
    }
   ],
   "source": [
    "html_code.find_all(id=\"stsImg\", limit=1)[0].attrs['src']"
   ]
  },
  {
   "cell_type": "code",
   "execution_count": 8,
   "id": "earned-sally",
   "metadata": {},
   "outputs": [],
   "source": [
    "link_img = html_code.find_all(id=\"stsImg\", limit=1)[0].attrs['src']\n",
    "wb_final_img = wblink2+link_img"
   ]
  },
  {
   "cell_type": "code",
   "execution_count": 9,
   "id": "authentic-eagle",
   "metadata": {},
   "outputs": [
    {
     "data": {
      "text/plain": [
       "'https://www.weather.gov/images/okx/winter/StormTotalSnowWeb.png'"
      ]
     },
     "execution_count": 9,
     "metadata": {},
     "output_type": "execute_result"
    }
   ],
   "source": [
    "wb_final_img"
   ]
  },
  {
   "cell_type": "code",
   "execution_count": 10,
   "id": "lucky-personality",
   "metadata": {},
   "outputs": [],
   "source": [
    "img_req = requests.get(wb_final_img)"
   ]
  },
  {
   "cell_type": "code",
   "execution_count": 11,
   "id": "anonymous-transcript",
   "metadata": {},
   "outputs": [
    {
     "data": {
      "text/plain": [
       "200"
      ]
     },
     "execution_count": 11,
     "metadata": {},
     "output_type": "execute_result"
    }
   ],
   "source": [
    "img_req.status_code"
   ]
  },
  {
   "cell_type": "code",
   "execution_count": 12,
   "id": "relative-habitat",
   "metadata": {},
   "outputs": [],
   "source": [
    "img_bytes = img_req.content"
   ]
  },
  {
   "cell_type": "code",
   "execution_count": 13,
   "id": "czech-fields",
   "metadata": {},
   "outputs": [
    {
     "data": {
      "text/plain": [
       "'PNG'"
      ]
     },
     "execution_count": 13,
     "metadata": {},
     "output_type": "execute_result"
    }
   ],
   "source": [
    "tipos = ['jpg', 'png', 'PNG', 'JPG', 'JPEG', 'jpeg']\n",
    "tipo_final = ''\n",
    "for tipo in tipos:\n",
    "    if(tipo in str(img_bytes)):\n",
    "        tipo_final = tipo\n",
    "tipo_final"
   ]
  },
  {
   "cell_type": "code",
   "execution_count": 14,
   "id": "verbal-thought",
   "metadata": {},
   "outputs": [],
   "source": [
    "arquivo = 'previsao_neve.'+tipo_final\n",
    "arquivo_previsao = open(arquivo, 'wb+')"
   ]
  },
  {
   "cell_type": "code",
   "execution_count": 15,
   "id": "available-light",
   "metadata": {},
   "outputs": [
    {
     "data": {
      "text/plain": [
       "194365"
      ]
     },
     "execution_count": 15,
     "metadata": {},
     "output_type": "execute_result"
    }
   ],
   "source": [
    "arquivo_previsao.write((img_bytes))"
   ]
  },
  {
   "cell_type": "code",
   "execution_count": 16,
   "id": "moving-mills",
   "metadata": {},
   "outputs": [],
   "source": [
    "arquivo_previsao.close()"
   ]
  },
  {
   "cell_type": "code",
   "execution_count": null,
   "id": "stone-transformation",
   "metadata": {},
   "outputs": [],
   "source": []
  },
  {
   "cell_type": "code",
   "execution_count": null,
   "id": "possible-application",
   "metadata": {},
   "outputs": [],
   "source": []
  }
 ],
 "metadata": {
  "kernelspec": {
   "display_name": "Python 3",
   "language": "python",
   "name": "python3"
  },
  "language_info": {
   "codemirror_mode": {
    "name": "ipython",
    "version": 3
   },
   "file_extension": ".py",
   "mimetype": "text/x-python",
   "name": "python",
   "nbconvert_exporter": "python",
   "pygments_lexer": "ipython3",
   "version": "3.8.5"
  }
 },
 "nbformat": 4,
 "nbformat_minor": 5
}
